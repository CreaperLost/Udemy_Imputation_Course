{
  "nbformat": 4,
  "nbformat_minor": 0,
  "metadata": {
    "colab": {
      "provenance": [],
      "authorship_tag": "ABX9TyN6sEBnadcS3JVgCTi9cYOJ",
      "include_colab_link": true
    },
    "kernelspec": {
      "name": "python3",
      "display_name": "Python 3"
    },
    "language_info": {
      "name": "python"
    }
  },
  "cells": [
    {
      "cell_type": "markdown",
      "metadata": {
        "id": "view-in-github",
        "colab_type": "text"
      },
      "source": [
        "<a href=\"https://colab.research.google.com/github/CreaperLost/Youtube_Tutorials/blob/main/Mean_Mode_Imputation.ipynb\" target=\"_parent\"><img src=\"https://colab.research.google.com/assets/colab-badge.svg\" alt=\"Open In Colab\"/></a>"
      ]
    },
    {
      "cell_type": "markdown",
      "source": [
        "This notebook will help you impute missing values using sklearn SimpleImputer.\n",
        "Continuous features will be imputed with sample mean, while categorical data with sample mode ( most frequent value )"
      ],
      "metadata": {
        "id": "TJbrgeGOE9s3"
      }
    },
    {
      "cell_type": "markdown",
      "source": [
        "Import the packages"
      ],
      "metadata": {
        "id": "sXiTKbr4FUAd"
      }
    },
    {
      "cell_type": "code",
      "execution_count": 13,
      "metadata": {
        "id": "VK0dLICVEy26"
      },
      "outputs": [],
      "source": [
        "# !pip install numpy\n",
        "# !pip install sklearn\n",
        "import numpy as np\n",
        "from sklearn.impute import SimpleImputer"
      ]
    },
    {
      "cell_type": "markdown",
      "source": [
        "Impute continuous features"
      ],
      "metadata": {
        "id": "nO9_gNFAE6zt"
      }
    },
    {
      "cell_type": "code",
      "source": [
        "# Specify the datasets\n",
        "train_data = [[7, 2, 3], [4, np.nan, 6], [10, 5, 9]]\n",
        "test_data = [[np.nan, 2, 3], [4, np.nan, 6], [10, np.nan, 9]]\n",
        "\n",
        "# Imputor class\n",
        "imp_mean = SimpleImputer(missing_values=np.nan, strategy='mean')\n",
        "# train on data\n",
        "imp_mean.fit(train_data)\n",
        "\n",
        "# impute train-data.\n",
        "print(imp_mean.transform(train_data))\n",
        "print('===============================================')\n",
        "# impute test-data.\n",
        "print(imp_mean.transform(test_data))"
      ],
      "metadata": {
        "colab": {
          "base_uri": "https://localhost:8080/"
        },
        "id": "xZikFgZ-FSAW",
        "outputId": "8c8934d0-d7c5-4b9c-d68a-284505aab8ab"
      },
      "execution_count": 11,
      "outputs": [
        {
          "output_type": "stream",
          "name": "stdout",
          "text": [
            "[[ 7.   2.   3. ]\n",
            " [ 4.   3.5  6. ]\n",
            " [10.   5.   9. ]]\n",
            "===============================================\n",
            "[[ 7.   2.   3. ]\n",
            " [ 4.   3.5  6. ]\n",
            " [10.   3.5  9. ]]\n"
          ]
        }
      ]
    },
    {
      "cell_type": "markdown",
      "source": [
        "Categorical imputation using most-frequent value ( mode )"
      ],
      "metadata": {
        "id": "Dtq0QnAEH5AR"
      }
    },
    {
      "cell_type": "code",
      "source": [
        "# Specify the datasets\n",
        "train_data = [['yes','one',np.nan], [np.nan, np.nan,'ok'], ['yes','one','not ok'],['no','two','not ok']]\n",
        "test_data = [[np.nan,np.nan,np.nan]]\n",
        "\n",
        "# Imputor class\n",
        "imp_mode = SimpleImputer(missing_values=np.nan, strategy='most_frequent')\n",
        "# train on data\n",
        "imp_mode.fit(train_data)\n",
        "\n",
        "# impute train-data.\n",
        "print(imp_mode.transform(train_data))\n",
        "print('===============================================')\n",
        "# impute test-data.\n",
        "print(imp_mode.transform(test_data))"
      ],
      "metadata": {
        "colab": {
          "base_uri": "https://localhost:8080/"
        },
        "id": "Bzw0HugtH4LL",
        "outputId": "c1e1e719-d113-49fe-8bb1-0cdd71c968e7"
      },
      "execution_count": 12,
      "outputs": [
        {
          "output_type": "stream",
          "name": "stdout",
          "text": [
            "[['yes' 'one' 'not ok']\n",
            " ['yes' 'one' 'ok']\n",
            " ['yes' 'one' 'not ok']\n",
            " ['no' 'two' 'not ok']]\n",
            "===============================================\n",
            "[['yes' 'one' 'not ok']]\n"
          ]
        }
      ]
    },
    {
      "cell_type": "code",
      "source": [],
      "metadata": {
        "id": "M9XsCwx0LCN0"
      },
      "execution_count": null,
      "outputs": []
    },
    {
      "cell_type": "code",
      "source": [],
      "metadata": {
        "id": "NgdjNS3_Iejl"
      },
      "execution_count": null,
      "outputs": []
    }
  ]
}