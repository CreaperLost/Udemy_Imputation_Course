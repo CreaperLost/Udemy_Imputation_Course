{
  "nbformat": 4,
  "nbformat_minor": 0,
  "metadata": {
    "colab": {
      "provenance": []
    },
    "kernelspec": {
      "name": "python3",
      "display_name": "Python 3"
    },
    "language_info": {
      "name": "python"
    }
  },
  "cells": [
    {
      "cell_type": "markdown",
      "source": [
        "This notebook will help you impute missing values using sklearn SimpleImputer.\n",
        "Continuous features will be imputed with sample mean, while categorical data with sample mode ( most frequent value )"
      ],
      "metadata": {
        "id": "TJbrgeGOE9s3"
      }
    },
    {
      "cell_type": "markdown",
      "source": [
        "Import the packages"
      ],
      "metadata": {
        "id": "sXiTKbr4FUAd"
      }
    },
    {
      "cell_type": "code",
      "execution_count": 52,
      "metadata": {
        "id": "VK0dLICVEy26"
      },
      "outputs": [],
      "source": [
        "# !pip install numpy\n",
        "# !pip install sklearn\n",
        "import numpy as np\n",
        "from sklearn.impute import SimpleImputer"
      ]
    },
    {
      "cell_type": "markdown",
      "source": [
        "Impute continuous features"
      ],
      "metadata": {
        "id": "nO9_gNFAE6zt"
      }
    },
    {
      "cell_type": "code",
      "source": [
        "# Specify the datasets\n",
        "train_data = [[7, 2, 3], [4, np.nan, 6], [10, 5, 9]]\n",
        "test_data = [[np.nan, 2, 3], [4, np.nan, 6], [10, np.nan, 9]]\n",
        "\n",
        "# Imputor class\n",
        "imp_mean = SimpleImputer(missing_values=np.nan, strategy='mean')\n",
        "# train on data\n",
        "imp_mean.fit(train_data)\n",
        "\n",
        "# impute train-data.\n",
        "print(imp_mean.transform(train_data))\n",
        "print('===============================================')\n",
        "# impute test-data.\n",
        "print(imp_mean.transform(test_data))"
      ],
      "metadata": {
        "colab": {
          "base_uri": "https://localhost:8080/"
        },
        "id": "xZikFgZ-FSAW",
        "outputId": "33ede2b1-988c-4f8a-8c2a-89e0f0a5973d"
      },
      "execution_count": 9,
      "outputs": [
        {
          "output_type": "stream",
          "name": "stdout",
          "text": [
            "[[ 7.   2.   3. ]\n",
            " [ 4.   3.5  6. ]\n",
            " [10.   5.   9. ]]\n",
            "===============================================\n",
            "[[ 7.   2.   3. ]\n",
            " [ 4.   3.5  6. ]\n",
            " [10.   3.5  9. ]]\n"
          ]
        }
      ]
    },
    {
      "cell_type": "markdown",
      "source": [
        "Categorical imputation using most-frequent value ( mode )"
      ],
      "metadata": {
        "id": "Dtq0QnAEH5AR"
      }
    },
    {
      "cell_type": "code",
      "source": [
        "# Specify the datasets\n",
        "train_data = [['yes','one',np.nan], [np.nan, np.nan,'ok'], ['yes','one','not ok'],['no','two','not ok']]\n",
        "test_data = [[np.nan,np.nan,np.nan]]\n",
        "\n",
        "# Imputor class\n",
        "imp_mode = SimpleImputer(missing_values=np.nan, strategy='most_frequent')\n",
        "# train on data\n",
        "imp_mode.fit(train_data)\n",
        "\n",
        "# impute train-data.\n",
        "print(imp_mode.transform(train_data))\n",
        "print('===============================================')\n",
        "# impute test-data.\n",
        "print(imp_mode.transform(test_data))"
      ],
      "metadata": {
        "colab": {
          "base_uri": "https://localhost:8080/"
        },
        "id": "Bzw0HugtH4LL",
        "outputId": "c37723e6-7a97-47b1-f43a-66e0bb2b85af"
      },
      "execution_count": 10,
      "outputs": [
        {
          "output_type": "stream",
          "name": "stdout",
          "text": [
            "[['yes' 'one' 'not ok']\n",
            " ['yes' 'one' 'ok']\n",
            " ['yes' 'one' 'not ok']\n",
            " ['no' 'two' 'not ok']]\n",
            "===============================================\n",
            "[['yes' 'one' 'not ok']]\n"
          ]
        }
      ]
    },
    {
      "cell_type": "markdown",
      "source": [
        "Missing Indicator Method\n"
      ],
      "metadata": {
        "id": "n4MnMTLfQnY0"
      }
    },
    {
      "cell_type": "code",
      "source": [
        "from sklearn.impute import MissingIndicator\n",
        "\n",
        "train_data = [[7, 50, 3], [4, np.nan, 6], [10, 5, 9]]\n",
        "test_data = [[np.nan, 2, 3], [4, np.nan, 6], [10, np.nan, 9]]\n",
        "\n",
        "\n",
        "indicator = MissingIndicator(features = 'all')\n",
        "indicator.fit(train_data)\n",
        "indicator.transform(train_data)"
      ],
      "metadata": {
        "id": "M9XsCwx0LCN0",
        "colab": {
          "base_uri": "https://localhost:8080/"
        },
        "outputId": "faeff53d-86c3-4399-8ca1-b21fe1e57a17"
      },
      "execution_count": 31,
      "outputs": [
        {
          "output_type": "execute_result",
          "data": {
            "text/plain": [
              "array([[False, False, False],\n",
              "       [False,  True, False],\n",
              "       [False, False, False]])"
            ]
          },
          "metadata": {},
          "execution_count": 31
        }
      ]
    },
    {
      "cell_type": "code",
      "source": [
        "indicator.transform(test_data)"
      ],
      "metadata": {
        "id": "NgdjNS3_Iejl",
        "colab": {
          "base_uri": "https://localhost:8080/"
        },
        "outputId": "69104793-ed6e-41d5-a930-e84218a0d5a8"
      },
      "execution_count": 32,
      "outputs": [
        {
          "output_type": "execute_result",
          "data": {
            "text/plain": [
              "array([[ True, False, False],\n",
              "       [False,  True, False],\n",
              "       [False,  True, False]])"
            ]
          },
          "metadata": {},
          "execution_count": 32
        }
      ]
    },
    {
      "cell_type": "markdown",
      "source": [
        "Preprocess data from complex methods"
      ],
      "metadata": {
        "id": "DmLuXrsYWpck"
      }
    },
    {
      "cell_type": "code",
      "source": [
        "from sklearn.preprocessing import StandardScaler\n",
        "\n",
        "\n",
        "scaler = StandardScaler()\n",
        "scaler.fit(train_data)\n",
        "train_data = scaler.transform(train_data)"
      ],
      "metadata": {
        "id": "HjU6MF28Wr3d"
      },
      "execution_count": 44,
      "outputs": []
    },
    {
      "cell_type": "markdown",
      "source": [
        "KNN Imputation\n"
      ],
      "metadata": {
        "id": "hIh00cW4Q-mo"
      }
    },
    {
      "cell_type": "code",
      "source": [
        "from sklearn.impute import KNNImputer\n",
        "\n",
        "imputer = KNNImputer(n_neighbors=1)\n",
        "imputer.fit(train_data)\n",
        "imputer.transform(train_data)"
      ],
      "metadata": {
        "colab": {
          "base_uri": "https://localhost:8080/"
        },
        "id": "6C3WvSRFQ_vJ",
        "outputId": "2a62a802-b1c4-496c-db18-f37af4bd7c53"
      },
      "execution_count": 45,
      "outputs": [
        {
          "output_type": "execute_result",
          "data": {
            "text/plain": [
              "array([[ 0.        , -1.        , -1.22474487],\n",
              "       [-1.22474487, -1.        ,  0.        ],\n",
              "       [ 1.22474487,  1.        ,  1.22474487]])"
            ]
          },
          "metadata": {},
          "execution_count": 45
        }
      ]
    },
    {
      "cell_type": "markdown",
      "source": [
        "MissForest"
      ],
      "metadata": {
        "id": "VzHxHpFuRH3l"
      }
    },
    {
      "cell_type": "code",
      "source": [
        "# explicitly require this experimental feature\n",
        "from sklearn.experimental import enable_iterative_imputer  # noqa\n",
        "# now you can import normally from impute\n",
        "from sklearn.impute import IterativeImputer\n",
        "# Import RandomForest\n",
        "from sklearn.ensemble import RandomForestRegressor"
      ],
      "metadata": {
        "id": "anHhmokARG6t"
      },
      "execution_count": 46,
      "outputs": []
    },
    {
      "cell_type": "code",
      "source": [
        "imp_mean = IterativeImputer(estimator=RandomForestRegressor(n_estimators = 50),random_state=0)\n",
        "imp_mean.fit(train_data)\n",
        "imp_mean.transform(train_data)"
      ],
      "metadata": {
        "colab": {
          "base_uri": "https://localhost:8080/"
        },
        "id": "haNxWoPiRSrg",
        "outputId": "480c2af4-baac-4cad-e780-325009570a0a"
      },
      "execution_count": 47,
      "outputs": [
        {
          "output_type": "execute_result",
          "data": {
            "text/plain": [
              "array([[ 0.        , -1.        , -1.22474487],\n",
              "       [-1.22474487, -0.48      ,  0.        ],\n",
              "       [ 1.22474487,  1.        ,  1.22474487]])"
            ]
          },
          "metadata": {},
          "execution_count": 47
        }
      ]
    },
    {
      "cell_type": "markdown",
      "source": [
        "DAE"
      ],
      "metadata": {
        "id": "AnGHePbiSqq1"
      }
    },
    {
      "cell_type": "code",
      "source": [
        "from new_dae import DAE\n",
        "import pandas as pd\n",
        "\n",
        "train_data = pd.DataFrame(train_data)\n",
        "\n",
        "dae_imputor = DAE(parameters = {},names = list(train_data.columns),vmaps = {})\n",
        "dae_imputor.fit(train_data)\n",
        "imputed_data, new_names, vmaps = dae_imputor.transform(train_data)\n",
        "imputed_data"
      ],
      "metadata": {
        "colab": {
          "base_uri": "https://localhost:8080/"
        },
        "id": "Z-qaY_QdSraT",
        "outputId": "fea1ed28-1f4b-40c8-eb71-91621ee61f12"
      },
      "execution_count": 51,
      "outputs": [
        {
          "output_type": "execute_result",
          "data": {
            "text/plain": [
              "[[0.5, 0.0, 0.0], [0.0, 0.32137125730514526, 0.5], [1.0, 1.0, 1.0]]"
            ]
          },
          "metadata": {},
          "execution_count": 51
        }
      ]
    },
    {
      "cell_type": "markdown",
      "source": [
        "GAIN\n",
        "\n",
        "Needs Normalized data in range 0 - 1"
      ],
      "metadata": {
        "id": "VjFUvRFmXIfO"
      }
    },
    {
      "cell_type": "code",
      "source": [
        "from sklearn.preprocessing import MinMaxScaler\n",
        "\n",
        "scaler = MinMaxScaler()\n",
        "scaler.fit(train_data)\n",
        "train_data = pd.DataFrame(scaler.transform(train_data))"
      ],
      "metadata": {
        "id": "ZHUOGMKPXL3P"
      },
      "execution_count": 53,
      "outputs": []
    },
    {
      "cell_type": "code",
      "source": [
        "from gain import Gain\n",
        "\n",
        "\n",
        "gain_imputor = Gain(parameters = {'iterations' : 100},names = list(train_data.columns) , vmaps = {} )\n",
        "\n",
        "gain_imputor.fit(train_data)\n",
        "imputed_data, new_names, vmaps  = gain_imputor.transform(train_data)\n",
        "imputed_data"
      ],
      "metadata": {
        "colab": {
          "base_uri": "https://localhost:8080/"
        },
        "id": "l7UBG-u0Tyqc",
        "outputId": "e04a4aaf-bd4e-43c4-a229-f094dc3d9865"
      },
      "execution_count": 55,
      "outputs": [
        {
          "output_type": "stream",
          "name": "stderr",
          "text": [
            " 20%|██        | 20/100 [00:00<00:00, 192.22it/s]"
          ]
        },
        {
          "output_type": "stream",
          "name": "stdout",
          "text": [
            "Iter: 0\tTrain_loss: 0.4779\tTest_loss: 0.5\n"
          ]
        },
        {
          "output_type": "stream",
          "name": "stderr",
          "text": [
            "100%|██████████| 100/100 [00:00<00:00, 191.56it/s]\n"
          ]
        },
        {
          "output_type": "execute_result",
          "data": {
            "text/plain": [
              "[[0.5, 0.0, 0.0], [0.0, 0.4761406091827655, 0.5], [1.0, 1.0, 1.0]]"
            ]
          },
          "metadata": {},
          "execution_count": 55
        }
      ]
    },
    {
      "cell_type": "code",
      "source": [],
      "metadata": {
        "id": "jS90ioGxVzZm"
      },
      "execution_count": null,
      "outputs": []
    }
  ]
}